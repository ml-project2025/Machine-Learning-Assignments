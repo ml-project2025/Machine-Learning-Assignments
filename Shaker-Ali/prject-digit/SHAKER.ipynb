{
  "cells": [
    {
      "cell_type": "code",
      "execution_count": null,
      "metadata": {
        "colab": {
          "base_uri": "https://localhost:8080/"
        },
        "id": "fKArueXlVp_H",
        "outputId": "10c0434c-3325-4384-d561-41b756e7cfba"
      },
      "outputs": [
        {
          "name": "stdout",
          "output_type": "stream",
          "text": [
            "تم استيراد المكتبات بنجاح\n",
            "TensorFlow Version: 2.19.0\n"
          ]
        }
      ],
      "source": [
        "import tensorflow as tf\n",
        "from tensorflow.keras.datasets import mnist\n",
        "from tensorflow.keras.models import Sequential\n",
        "from tensorflow.keras.layers import Dense, Flatten, Conv2D, MaxPooling2D\n",
        "from tensorflow.keras.models import load_model\n",
        "import numpy as np\n",
        "import cv2\n",
        "import matplotlib.pyplot as plt\n",
        "import random\n",
        "print(\"تم استيراد المكتبات بنجاح\")\n",
        "print(\"TensorFlow Version:\",tf.__version__)"
      ]
    },
    {
      "cell_type": "code",
      "execution_count": null,
      "metadata": {
        "colab": {
          "base_uri": "https://localhost:8080/"
        },
        "id": "WOvpL_zAVqOz",
        "outputId": "7784d68e-df41-48e4-b859-774fa325f911"
      },
      "outputs": [
        {
          "name": "stdout",
          "output_type": "stream",
          "text": [
            "جاري تحميل البيانات\n",
            "(10000, 28, 28)  الحجم الاولي لبيانات التدريب (قبل المعالجة): \n",
            "(60000, 28, 28)  الحجم الاولي لبيانات الاختبار (قبل الاختبار): \n",
            "/n !تم اضافة البعد الرابع وتبيع البيانات بنجاح \n",
            "(10000, 28, 28, 1) (بعد المعالجة)حجم بيانات التدريب\n",
            "(60000, 28, 28, 1) (بعد المعالجة)حجم بيانات الاختبار\n"
          ]
        }
      ],
      "source": [
        "print(\"جاري تحميل البيانات\")\n",
        "(x_test,y_test),(x_train,y_train)=mnist.load_data()\n",
        "print(x_train.shape,\" الحجم الاولي لبيانات التدريب (قبل المعالجة): \")\n",
        "print(x_test.shape,\" الحجم الاولي لبيانات الاختبار (قبل الاختبار): \")\n",
        "x_train_processed = x_train.reshape(-1, 28, 28, 1).astype('float32') / 255\n",
        "x_test_processed = x_test.reshape(-1, 28, 28, 1).astype('float32') / 255\n",
        "print(\"/n !تم اضافة البعد الرابع وتبيع البيانات بنجاح \")\n",
        "print(x_train_processed.shape ,\"(بعد المعالجة)حجم بيانات التدريب\")\n",
        "print(x_test_processed.shape ,\"(بعد المعالجة)حجم بيانات الاختبار\")\n"
      ]
    },
    {
      "cell_type": "code",
      "execution_count": null,
      "metadata": {
        "colab": {
          "base_uri": "https://localhost:8080/",
          "height": 366
        },
        "id": "_wBOIVhJVqZT",
        "outputId": "b4114dac-b181-4cb4-9b5f-5bb972f8e515"
      },
      "outputs": [
        {
          "name": "stderr",
          "output_type": "stream",
          "text": [
            "/usr/local/lib/python3.12/dist-packages/keras/src/layers/convolutional/base_conv.py:113: UserWarning: Do not pass an `input_shape`/`input_dim` argument to a layer. When using Sequential models, prefer using an `Input(shape)` object as the first layer in the model instead.\n",
            "  super().__init__(activity_regularizer=activity_regularizer, **kwargs)\n"
          ]
        },
        {
          "data": {
            "text/html": [
              "<pre style=\"white-space:pre;overflow-x:auto;line-height:normal;font-family:Menlo,'DejaVu Sans Mono',consolas,'Courier New',monospace\"><span style=\"font-weight: bold\">Model: \"sequential\"</span>\n",
              "</pre>\n"
            ],
            "text/plain": [
              "\u001b[1mModel: \"sequential\"\u001b[0m\n"
            ]
          },
          "metadata": {},
          "output_type": "display_data"
        },
        {
          "data": {
            "text/html": [
              "<pre style=\"white-space:pre;overflow-x:auto;line-height:normal;font-family:Menlo,'DejaVu Sans Mono',consolas,'Courier New',monospace\">┏━━━━━━━━━━━━━━━━━━━━━━━━━━━━━━━━━┳━━━━━━━━━━━━━━━━━━━━━━━━┳━━━━━━━━━━━━━━━┓\n",
              "┃<span style=\"font-weight: bold\"> Layer (type)                    </span>┃<span style=\"font-weight: bold\"> Output Shape           </span>┃<span style=\"font-weight: bold\">       Param # </span>┃\n",
              "┡━━━━━━━━━━━━━━━━━━━━━━━━━━━━━━━━━╇━━━━━━━━━━━━━━━━━━━━━━━━╇━━━━━━━━━━━━━━━┩\n",
              "│ conv2d (<span style=\"color: #0087ff; text-decoration-color: #0087ff\">Conv2D</span>)                 │ (<span style=\"color: #00d7ff; text-decoration-color: #00d7ff\">None</span>, <span style=\"color: #00af00; text-decoration-color: #00af00\">26</span>, <span style=\"color: #00af00; text-decoration-color: #00af00\">26</span>, <span style=\"color: #00af00; text-decoration-color: #00af00\">32</span>)     │           <span style=\"color: #00af00; text-decoration-color: #00af00\">320</span> │\n",
              "├─────────────────────────────────┼────────────────────────┼───────────────┤\n",
              "│ max_pooling2d (<span style=\"color: #0087ff; text-decoration-color: #0087ff\">MaxPooling2D</span>)    │ (<span style=\"color: #00d7ff; text-decoration-color: #00d7ff\">None</span>, <span style=\"color: #00af00; text-decoration-color: #00af00\">13</span>, <span style=\"color: #00af00; text-decoration-color: #00af00\">13</span>, <span style=\"color: #00af00; text-decoration-color: #00af00\">32</span>)     │             <span style=\"color: #00af00; text-decoration-color: #00af00\">0</span> │\n",
              "├─────────────────────────────────┼────────────────────────┼───────────────┤\n",
              "│ flatten (<span style=\"color: #0087ff; text-decoration-color: #0087ff\">Flatten</span>)               │ (<span style=\"color: #00d7ff; text-decoration-color: #00d7ff\">None</span>, <span style=\"color: #00af00; text-decoration-color: #00af00\">5408</span>)           │             <span style=\"color: #00af00; text-decoration-color: #00af00\">0</span> │\n",
              "├─────────────────────────────────┼────────────────────────┼───────────────┤\n",
              "│ dense (<span style=\"color: #0087ff; text-decoration-color: #0087ff\">Dense</span>)                   │ (<span style=\"color: #00d7ff; text-decoration-color: #00d7ff\">None</span>, <span style=\"color: #00af00; text-decoration-color: #00af00\">128</span>)            │       <span style=\"color: #00af00; text-decoration-color: #00af00\">692,352</span> │\n",
              "├─────────────────────────────────┼────────────────────────┼───────────────┤\n",
              "│ dense_1 (<span style=\"color: #0087ff; text-decoration-color: #0087ff\">Dense</span>)                 │ (<span style=\"color: #00d7ff; text-decoration-color: #00d7ff\">None</span>, <span style=\"color: #00af00; text-decoration-color: #00af00\">10</span>)             │         <span style=\"color: #00af00; text-decoration-color: #00af00\">1,290</span> │\n",
              "└─────────────────────────────────┴────────────────────────┴───────────────┘\n",
              "</pre>\n"
            ],
            "text/plain": [
              "┏━━━━━━━━━━━━━━━━━━━━━━━━━━━━━━━━━┳━━━━━━━━━━━━━━━━━━━━━━━━┳━━━━━━━━━━━━━━━┓\n",
              "┃\u001b[1m \u001b[0m\u001b[1mLayer (type)                   \u001b[0m\u001b[1m \u001b[0m┃\u001b[1m \u001b[0m\u001b[1mOutput Shape          \u001b[0m\u001b[1m \u001b[0m┃\u001b[1m \u001b[0m\u001b[1m      Param #\u001b[0m\u001b[1m \u001b[0m┃\n",
              "┡━━━━━━━━━━━━━━━━━━━━━━━━━━━━━━━━━╇━━━━━━━━━━━━━━━━━━━━━━━━╇━━━━━━━━━━━━━━━┩\n",
              "│ conv2d (\u001b[38;5;33mConv2D\u001b[0m)                 │ (\u001b[38;5;45mNone\u001b[0m, \u001b[38;5;34m26\u001b[0m, \u001b[38;5;34m26\u001b[0m, \u001b[38;5;34m32\u001b[0m)     │           \u001b[38;5;34m320\u001b[0m │\n",
              "├─────────────────────────────────┼────────────────────────┼───────────────┤\n",
              "│ max_pooling2d (\u001b[38;5;33mMaxPooling2D\u001b[0m)    │ (\u001b[38;5;45mNone\u001b[0m, \u001b[38;5;34m13\u001b[0m, \u001b[38;5;34m13\u001b[0m, \u001b[38;5;34m32\u001b[0m)     │             \u001b[38;5;34m0\u001b[0m │\n",
              "├─────────────────────────────────┼────────────────────────┼───────────────┤\n",
              "│ flatten (\u001b[38;5;33mFlatten\u001b[0m)               │ (\u001b[38;5;45mNone\u001b[0m, \u001b[38;5;34m5408\u001b[0m)           │             \u001b[38;5;34m0\u001b[0m │\n",
              "├─────────────────────────────────┼────────────────────────┼───────────────┤\n",
              "│ dense (\u001b[38;5;33mDense\u001b[0m)                   │ (\u001b[38;5;45mNone\u001b[0m, \u001b[38;5;34m128\u001b[0m)            │       \u001b[38;5;34m692,352\u001b[0m │\n",
              "├─────────────────────────────────┼────────────────────────┼───────────────┤\n",
              "│ dense_1 (\u001b[38;5;33mDense\u001b[0m)                 │ (\u001b[38;5;45mNone\u001b[0m, \u001b[38;5;34m10\u001b[0m)             │         \u001b[38;5;34m1,290\u001b[0m │\n",
              "└─────────────────────────────────┴────────────────────────┴───────────────┘\n"
            ]
          },
          "metadata": {},
          "output_type": "display_data"
        },
        {
          "data": {
            "text/html": [
              "<pre style=\"white-space:pre;overflow-x:auto;line-height:normal;font-family:Menlo,'DejaVu Sans Mono',consolas,'Courier New',monospace\"><span style=\"font-weight: bold\"> Total params: </span><span style=\"color: #00af00; text-decoration-color: #00af00\">693,962</span> (2.65 MB)\n",
              "</pre>\n"
            ],
            "text/plain": [
              "\u001b[1m Total params: \u001b[0m\u001b[38;5;34m693,962\u001b[0m (2.65 MB)\n"
            ]
          },
          "metadata": {},
          "output_type": "display_data"
        },
        {
          "data": {
            "text/html": [
              "<pre style=\"white-space:pre;overflow-x:auto;line-height:normal;font-family:Menlo,'DejaVu Sans Mono',consolas,'Courier New',monospace\"><span style=\"font-weight: bold\"> Trainable params: </span><span style=\"color: #00af00; text-decoration-color: #00af00\">693,962</span> (2.65 MB)\n",
              "</pre>\n"
            ],
            "text/plain": [
              "\u001b[1m Trainable params: \u001b[0m\u001b[38;5;34m693,962\u001b[0m (2.65 MB)\n"
            ]
          },
          "metadata": {},
          "output_type": "display_data"
        },
        {
          "data": {
            "text/html": [
              "<pre style=\"white-space:pre;overflow-x:auto;line-height:normal;font-family:Menlo,'DejaVu Sans Mono',consolas,'Courier New',monospace\"><span style=\"font-weight: bold\"> Non-trainable params: </span><span style=\"color: #00af00; text-decoration-color: #00af00\">0</span> (0.00 B)\n",
              "</pre>\n"
            ],
            "text/plain": [
              "\u001b[1m Non-trainable params: \u001b[0m\u001b[38;5;34m0\u001b[0m (0.00 B)\n"
            ]
          },
          "metadata": {},
          "output_type": "display_data"
        }
      ],
      "source": [
        "\n",
        "#  تصميم نموذج الـ CNN\n",
        "model = Sequential([\n",
        "    Conv2D(32, (3,3), activation='relu', input_shape=(28,28,1)),\n",
        "    MaxPooling2D((2,2)),\n",
        "    Flatten(),\n",
        "    Dense(128, activation='relu'),\n",
        "    Dense(10, activation='softmax')\n",
        "\n",
        "])\n",
        "\n",
        "#  تجميع النموذج\n",
        "model.compile(optimizer='adam',\n",
        "              loss='sparse_categorical_crossentropy',\n",
        "              metrics=['accuracy'])\n",
        "model.summary()"
      ]
    },
    {
      "cell_type": "code",
      "execution_count": null,
      "metadata": {
        "colab": {
          "base_uri": "https://localhost:8080/"
        },
        "id": "7dinxXlTVrb7",
        "outputId": "d2a86ea9-8760-436c-9771-9633d68d13c3"
      },
      "outputs": [
        {
          "name": "stdout",
          "output_type": "stream",
          "text": [
            "\n",
            "============================================================\n",
            "[الجزء 4] بدء تدريب الموديل المطور (مع زيادة البيانات)\n",
            "============================================================\n",
            "\n",
            "Epoch 1/10\n"
          ]
        },
        {
          "name": "stderr",
          "output_type": "stream",
          "text": [
            "/usr/local/lib/python3.12/dist-packages/keras/src/trainers/data_adapters/py_dataset_adapter.py:121: UserWarning: Your `PyDataset` class should call `super().__init__(**kwargs)` in its constructor. `**kwargs` can include `workers`, `use_multiprocessing`, `max_queue_size`. Do not pass these arguments to `fit()`, as they will be ignored.\n",
            "  self._warn_if_super_not_called()\n"
          ]
        },
        {
          "name": "stdout",
          "output_type": "stream",
          "text": [
            "\u001b[1m157/157\u001b[0m \u001b[32m━━━━━━━━━━━━━━━━━━━━\u001b[0m\u001b[37m\u001b[0m \u001b[1m9s\u001b[0m 48ms/step - accuracy: 0.8573 - loss: 0.4815 - val_accuracy: 0.9700 - val_loss: 0.1039\n",
            "Epoch 2/10\n",
            "\u001b[1m157/157\u001b[0m \u001b[32m━━━━━━━━━━━━━━━━━━━━\u001b[0m\u001b[37m\u001b[0m \u001b[1m7s\u001b[0m 42ms/step - accuracy: 0.9318 - loss: 0.2173 - val_accuracy: 0.9713 - val_loss: 0.0952\n",
            "Epoch 3/10\n",
            "\u001b[1m157/157\u001b[0m \u001b[32m━━━━━━━━━━━━━━━━━━━━\u001b[0m\u001b[37m\u001b[0m \u001b[1m7s\u001b[0m 47ms/step - accuracy: 0.9496 - loss: 0.1552 - val_accuracy: 0.9697 - val_loss: 0.1038\n",
            "Epoch 4/10\n",
            "\u001b[1m157/157\u001b[0m \u001b[32m━━━━━━━━━━━━━━━━━━━━\u001b[0m\u001b[37m\u001b[0m \u001b[1m8s\u001b[0m 51ms/step - accuracy: 0.9583 - loss: 0.1329 - val_accuracy: 0.9717 - val_loss: 0.0930\n",
            "Epoch 5/10\n",
            "\u001b[1m157/157\u001b[0m \u001b[32m━━━━━━━━━━━━━━━━━━━━\u001b[0m\u001b[37m\u001b[0m \u001b[1m7s\u001b[0m 45ms/step - accuracy: 0.9606 - loss: 0.1226 - val_accuracy: 0.9639 - val_loss: 0.1215\n",
            "Epoch 6/10\n",
            "\u001b[1m157/157\u001b[0m \u001b[32m━━━━━━━━━━━━━━━━━━━━\u001b[0m\u001b[37m\u001b[0m \u001b[1m7s\u001b[0m 46ms/step - accuracy: 0.9622 - loss: 0.1180 - val_accuracy: 0.9722 - val_loss: 0.0930\n",
            "Epoch 7/10\n",
            "\u001b[1m157/157\u001b[0m \u001b[32m━━━━━━━━━━━━━━━━━━━━\u001b[0m\u001b[37m\u001b[0m \u001b[1m8s\u001b[0m 51ms/step - accuracy: 0.9667 - loss: 0.1051 - val_accuracy: 0.9758 - val_loss: 0.0787\n",
            "Epoch 8/10\n",
            "\u001b[1m157/157\u001b[0m \u001b[32m━━━━━━━━━━━━━━━━━━━━\u001b[0m\u001b[37m\u001b[0m \u001b[1m9s\u001b[0m 42ms/step - accuracy: 0.9677 - loss: 0.0925 - val_accuracy: 0.9765 - val_loss: 0.0793\n",
            "Epoch 9/10\n",
            "\u001b[1m157/157\u001b[0m \u001b[32m━━━━━━━━━━━━━━━━━━━━\u001b[0m\u001b[37m\u001b[0m \u001b[1m9s\u001b[0m 55ms/step - accuracy: 0.9733 - loss: 0.0887 - val_accuracy: 0.9733 - val_loss: 0.0895\n",
            "Epoch 10/10\n",
            "\u001b[1m157/157\u001b[0m \u001b[32m━━━━━━━━━━━━━━━━━━━━\u001b[0m\u001b[37m\u001b[0m \u001b[1m7s\u001b[0m 45ms/step - accuracy: 0.9737 - loss: 0.0873 - val_accuracy: 0.9729 - val_loss: 0.0905\n",
            "\n",
            "============================================================\n",
            "🎉 انتهى تدريب الموديل المطور بنجاح! 🎉\n",
            "============================================================\n"
          ]
        }
      ],
      "source": [
        "\n",
        "# ==============================================================================\n",
        "# الخلية رقم 4: تدريب الموديل باستخدام زيادة البيانات (Data Augmentation)\n",
        "# ==============================================================================\n",
        "\n",
        "print(\"\\n\" + \"=\"*60)\n",
        "print(\"[الجزء 4] بدء تدريب الموديل المطور (مع زيادة البيانات)\")\n",
        "print(\"=\"*60 + \"\\n\")\n",
        "\n",
        "# 1. إعداد أداة زيادة البيانات (Data Augmentation)\n",
        "# ---------------------------------------------------\n",
        "# سنقوم بتعريف التشويهات التي نريد تطبيقها على صور التدريب\n",
        "\n",
        "from tensorflow.keras.preprocessing.image import ImageDataGenerator\n",
        "\n",
        "datagen = ImageDataGenerator(\n",
        "    rotation_range=10,       # تدوير الصورة عشوائيًا بزاوية تصل إلى 10 درجات\n",
        "    width_shift_range=0.1,   # إزاحة الصورة أفقيًا بنسبة تصل إلى 10% من عرضها\n",
        "    height_shift_range=0.1,  # إزاحة الصورة رأسيًا بنسبة تصل إلى 10% من ارتفاعها\n",
        "    zoom_range=0.1,          # تكبير/تصغير الصورة بنسبة تصل إلى 10%\n",
        "    shear_range=0.1          # تطبيق قص (تحويل مائل) على الصورة\n",
        ")\n",
        "\n",
        "# تطبيق الأداة على بيانات التدريب\n",
        "datagen.fit(x_train_processed)\n",
        "\n",
        "# 2. تدريب الموديل باستخدام البيانات الجديدة\n",
        "\n",
        "# -------------------------------------------\n",
        "# بدلاً من model.fit العادية، سنستخدم model.fit مع الأداة الجديدة\n",
        "# ستقوم الأداة بإنشاء دفعات (batches) من الصور المشوهة في الوقت الفعلي وإرسالها للموديل\n",
        "# قد يستغرق التدريب وقتًا أطول قليلاً لأن هناك معالجة إضافية تحدث\n",
        "history = model.fit(\n",
        "    datagen.flow(x_train_processed, y_train, batch_size=64), # استخدام أداة زيادة البيانات\n",
        "    epochs=10,  # زدنا عدد الدورات إلى 10 لأن الموديل يرى بيانات أكثر تنوعًا الآن\n",
        "    validation_data=(x_test_processed, y_test) # بيانات التحقق تبقى كما هي بدون تشويه\n",
        ")\n",
        "\n",
        "print(\"\\n\" + \"=\"*60)\n",
        "print(\"🎉 انتهى تدريب الموديل المطور بنجاح! 🎉\")\n",
        "print(\"=\"*60)\n"
      ]
    },
    {
      "cell_type": "code",
      "execution_count": null,
      "metadata": {
        "colab": {
          "base_uri": "https://localhost:8080/"
        },
        "id": "Kmoi7fI4Vrk7",
        "outputId": "02030d05-3184-4981-8488-208b035a9ef4"
      },
      "outputs": [
        {
          "name": "stdout",
          "output_type": "stream",
          "text": [
            "\n",
            "[الجزء 1] تقييم الموديل الأصلي...\n",
            "1875/1875 - 4s - 2ms/step - accuracy: 0.9729 - loss: 0.0905\n",
            "\n",
            "Test accuracy (Original Model)97.29%\n",
            "\n",
            "[الجزء 1] تم حفظ الموديل بنجاح في ملف 'digit_recognition_model.keras'\n"
          ]
        }
      ],
      "source": [
        "\n",
        "# اختبار النموذج الأصلي (قبل الحفظ)\n",
        "print(\"\\n[الجزء 1] تقييم الموديل الأصلي...\")\n",
        "loss, acc = model.evaluate(x_test_processed, y_test, verbose=2)\n",
        "print(f\"\\nTest accuracy (Original Model){acc*100:.2f}%\")\n",
        "\n",
        "#  حفظ الموديل المدرب\n",
        "model_filename = 'digit_recognition_model.keras'\n",
        "model.save(model_filename)\n",
        "print(f\"\\n[الجزء 1] تم حفظ الموديل بنجاح في ملف '{model_filename}'\")\n"
      ]
    },
    {
      "cell_type": "code",
      "execution_count": null,
      "metadata": {
        "colab": {
          "base_uri": "https://localhost:8080/",
          "height": 54
        },
        "id": "avHYzbiBVruG",
        "outputId": "cd584687-bc1c-4f92-b4a8-ef348ceb0eca"
      },
      "outputs": [
        {
          "name": "stdout",
          "output_type": "stream",
          "text": [
            "my_multi_digit.png\n"
          ]
        },
        {
          "data": {
            "text/html": [
              "\n",
              "     <input type=\"file\" id=\"files-47676a92-0752-4242-ac49-b4b64387b65d\" name=\"files[]\" multiple disabled\n",
              "        style=\"border:none\" />\n",
              "     <output id=\"result-47676a92-0752-4242-ac49-b4b64387b65d\">\n",
              "      Upload widget is only available when the cell has been executed in the\n",
              "      current browser session. Please rerun this cell to enable.\n",
              "      </output>\n",
              "      <script>// Copyright 2017 Google LLC\n",
              "//\n",
              "// Licensed under the Apache License, Version 2.0 (the \"License\");\n",
              "// you may not use this file except in compliance with the License.\n",
              "// You may obtain a copy of the License at\n",
              "//\n",
              "//      http://www.apache.org/licenses/LICENSE-2.0\n",
              "//\n",
              "// Unless required by applicable law or agreed to in writing, software\n",
              "// distributed under the License is distributed on an \"AS IS\" BASIS,\n",
              "// WITHOUT WARRANTIES OR CONDITIONS OF ANY KIND, either express or implied.\n",
              "// See the License for the specific language governing permissions and\n",
              "// limitations under the License.\n",
              "\n",
              "/**\n",
              " * @fileoverview Helpers for google.colab Python module.\n",
              " */\n",
              "(function(scope) {\n",
              "function span(text, styleAttributes = {}) {\n",
              "  const element = document.createElement('span');\n",
              "  element.textContent = text;\n",
              "  for (const key of Object.keys(styleAttributes)) {\n",
              "    element.style[key] = styleAttributes[key];\n",
              "  }\n",
              "  return element;\n",
              "}\n",
              "\n",
              "// Max number of bytes which will be uploaded at a time.\n",
              "const MAX_PAYLOAD_SIZE = 100 * 1024;\n",
              "\n",
              "function _uploadFiles(inputId, outputId) {\n",
              "  const steps = uploadFilesStep(inputId, outputId);\n",
              "  const outputElement = document.getElementById(outputId);\n",
              "  // Cache steps on the outputElement to make it available for the next call\n",
              "  // to uploadFilesContinue from Python.\n",
              "  outputElement.steps = steps;\n",
              "\n",
              "  return _uploadFilesContinue(outputId);\n",
              "}\n",
              "\n",
              "// This is roughly an async generator (not supported in the browser yet),\n",
              "// where there are multiple asynchronous steps and the Python side is going\n",
              "// to poll for completion of each step.\n",
              "// This uses a Promise to block the python side on completion of each step,\n",
              "// then passes the result of the previous step as the input to the next step.\n",
              "function _uploadFilesContinue(outputId) {\n",
              "  const outputElement = document.getElementById(outputId);\n",
              "  const steps = outputElement.steps;\n",
              "\n",
              "  const next = steps.next(outputElement.lastPromiseValue);\n",
              "  return Promise.resolve(next.value.promise).then((value) => {\n",
              "    // Cache the last promise value to make it available to the next\n",
              "    // step of the generator.\n",
              "    outputElement.lastPromiseValue = value;\n",
              "    return next.value.response;\n",
              "  });\n",
              "}\n",
              "\n",
              "/**\n",
              " * Generator function which is called between each async step of the upload\n",
              " * process.\n",
              " * @param {string} inputId Element ID of the input file picker element.\n",
              " * @param {string} outputId Element ID of the output display.\n",
              " * @return {!Iterable<!Object>} Iterable of next steps.\n",
              " */\n",
              "function* uploadFilesStep(inputId, outputId) {\n",
              "  const inputElement = document.getElementById(inputId);\n",
              "  inputElement.disabled = false;\n",
              "\n",
              "  const outputElement = document.getElementById(outputId);\n",
              "  outputElement.innerHTML = '';\n",
              "\n",
              "  const pickedPromise = new Promise((resolve) => {\n",
              "    inputElement.addEventListener('change', (e) => {\n",
              "      resolve(e.target.files);\n",
              "    });\n",
              "  });\n",
              "\n",
              "  const cancel = document.createElement('button');\n",
              "  inputElement.parentElement.appendChild(cancel);\n",
              "  cancel.textContent = 'Cancel upload';\n",
              "  const cancelPromise = new Promise((resolve) => {\n",
              "    cancel.onclick = () => {\n",
              "      resolve(null);\n",
              "    };\n",
              "  });\n",
              "\n",
              "  // Wait for the user to pick the files.\n",
              "  const files = yield {\n",
              "    promise: Promise.race([pickedPromise, cancelPromise]),\n",
              "    response: {\n",
              "      action: 'starting',\n",
              "    }\n",
              "  };\n",
              "\n",
              "  cancel.remove();\n",
              "\n",
              "  // Disable the input element since further picks are not allowed.\n",
              "  inputElement.disabled = true;\n",
              "\n",
              "  if (!files) {\n",
              "    return {\n",
              "      response: {\n",
              "        action: 'complete',\n",
              "      }\n",
              "    };\n",
              "  }\n",
              "\n",
              "  for (const file of files) {\n",
              "    const li = document.createElement('li');\n",
              "    li.append(span(file.name, {fontWeight: 'bold'}));\n",
              "    li.append(span(\n",
              "        `(${file.type || 'n/a'}) - ${file.size} bytes, ` +\n",
              "        `last modified: ${\n",
              "            file.lastModifiedDate ? file.lastModifiedDate.toLocaleDateString() :\n",
              "                                    'n/a'} - `));\n",
              "    const percent = span('0% done');\n",
              "    li.appendChild(percent);\n",
              "\n",
              "    outputElement.appendChild(li);\n",
              "\n",
              "    const fileDataPromise = new Promise((resolve) => {\n",
              "      const reader = new FileReader();\n",
              "      reader.onload = (e) => {\n",
              "        resolve(e.target.result);\n",
              "      };\n",
              "      reader.readAsArrayBuffer(file);\n",
              "    });\n",
              "    // Wait for the data to be ready.\n",
              "    let fileData = yield {\n",
              "      promise: fileDataPromise,\n",
              "      response: {\n",
              "        action: 'continue',\n",
              "      }\n",
              "    };\n",
              "\n",
              "    // Use a chunked sending to avoid message size limits. See b/62115660.\n",
              "    let position = 0;\n",
              "    do {\n",
              "      const length = Math.min(fileData.byteLength - position, MAX_PAYLOAD_SIZE);\n",
              "      const chunk = new Uint8Array(fileData, position, length);\n",
              "      position += length;\n",
              "\n",
              "      const base64 = btoa(String.fromCharCode.apply(null, chunk));\n",
              "      yield {\n",
              "        response: {\n",
              "          action: 'append',\n",
              "          file: file.name,\n",
              "          data: base64,\n",
              "        },\n",
              "      };\n",
              "\n",
              "      let percentDone = fileData.byteLength === 0 ?\n",
              "          100 :\n",
              "          Math.round((position / fileData.byteLength) * 100);\n",
              "      percent.textContent = `${percentDone}% done`;\n",
              "\n",
              "    } while (position < fileData.byteLength);\n",
              "  }\n",
              "\n",
              "  // All done.\n",
              "  yield {\n",
              "    response: {\n",
              "      action: 'complete',\n",
              "    }\n",
              "  };\n",
              "}\n",
              "\n",
              "scope.google = scope.google || {};\n",
              "scope.google.colab = scope.google.colab || {};\n",
              "scope.google.colab._files = {\n",
              "  _uploadFiles,\n",
              "  _uploadFilesContinue,\n",
              "};\n",
              "})(self);\n",
              "</script> "
            ],
            "text/plain": [
              "<IPython.core.display.HTML object>"
            ]
          },
          "metadata": {},
          "output_type": "display_data"
        }
      ],
      "source": [
        "from google.colab import files\n",
        "print(\"my_multi_digit.png\")\n",
        "uploaded =files.upload()\n",
        "if len(uploaded.keys()) > 0:\n",
        "  IMAGE_FILE_TO_TEST=list(uploaded.keys())[0]\n",
        "  print(\"تم رفع الصورة بنجاح\",'IMAGE_FILE_TO_TEST')\n",
        "else:\n",
        "  print(\"لم يتم الحف رفع اي ملف\")\n",
        "  IMAGE_FILE_TO_TEST=None"
      ]
    },
    {
      "cell_type": "code",
      "execution_count": null,
      "metadata": {
        "colab": {
          "base_uri": "https://localhost:8080/",
          "height": 968
        },
        "id": "JcQBly-hVHRw",
        "outputId": "c04219ac-a84c-4aef-ed19-07b94bf624b6"
      },
      "outputs": [
        {
          "name": "stdout",
          "output_type": "stream",
          "text": [
            "--- بدء اختبار الصورة: perfect_9 (1).png ---\n",
            "تم تحميل الموديل المحفوظ بنجاح.\n",
            "تم العثور على 1 كائن/رقم في الصورة.\n",
            "\u001b[1m1/1\u001b[0m \u001b[32m━━━━━━━━━━━━━━━━━━━━\u001b[0m\u001b[37m\u001b[0m \u001b[1m0s\u001b[0m 326ms/step\n",
            "\n",
            "==============================\n",
            "الرقم المتوقع بالكامل هو: 7\n",
            "==============================\n"
          ]
        },
        {
          "data": {
            "image/png": "[encoded data removed]",
            "text/plain": [
              "<Figure size 1000x1000 with 1 Axes>"
            ]
          },
          "metadata": {},
          "output_type": "display_data"
        }
      ],
      "source": [
        "\n",
        "# الخطوة 7: اختبار الموديل على الصورة الخارجية التي تم رفعها\n",
        "\n",
        "# التحقق من أن هناك صورة تم رفعها في الخلية السابقة\n",
        "if IMAGE_FILE_TO_TEST is not None:\n",
        "    print(f\"--- بدء اختبار الصورة: {IMAGE_FILE_TO_TEST} ---\")\n",
        "\n",
        "    # 1. تحميل الموديل المحفوظ\n",
        "    try:\n",
        "        loaded_model = load_model('digit_recognition_model.keras')\n",
        "        print(\"تم تحميل الموديل المحفوظ بنجاح.\")\n",
        "    except Exception as e:\n",
        "        print(f\"خطأ في تحميل الموديل: {e}\")\n",
        "        # نتوقف هنا إذا لم يتم تحميل الموديل\n",
        "        raise\n",
        "\n",
        "    # 2. قراءة الصورة التي تم رفعها ومعالجتها\n",
        "\n",
        "    image = cv2.imread(IMAGE_FILE_TO_TEST, cv2.IMREAD_GRAYSCALE)\n",
        "    # عكس الألوان (لأن cv2 يقرأ الأبيض كـ 255 والأسود كـ 0)\n",
        "    image_inverted = cv2.bitwise_not(image)\n",
        "    # إنشاء نسخة ملونة من الصورة لعرض النتائج عليها\n",
        "    output_image = cv2.cvtColor(image, cv2.COLOR_GRAY2BGR)\n",
        "\n",
        "    # 3. إيجاد الكفاف (Contours) للأرقام في الصورة\n",
        "    contours, _ = cv2.findContours(image_inverted, cv2.RETR_EXTERNAL, cv2.CHAIN_APPROX_SIMPLE)\n",
        "\n",
        "    # فرز الكفاف من اليسار إلى اليمين\n",
        "    contours = sorted(contours, key=lambda c: cv2.boundingRect(c)[0])\n",
        "\n",
        "    print(f\"تم العثور على {len(contours)} كائن/رقم في الصورة.\")\n",
        "\n",
        "\n",
        "\n",
        "    # 4. المرور على كل كفاف (رقم) والتنبؤ به\n",
        "    final_prediction = \"\"\n",
        "    for contour in contours:\n",
        "        # الحصول على إحداثيات المربع المحيط بالرقم\n",
        "        (x, y, w, h) = cv2.boundingRect(contour)\n",
        "\n",
        "        # قص صورة الرقم من الصورة الكبيرة\n",
        "        digit_roi = image_inverted[y:y+h, x:x+w]\n",
        "\n",
        "        # إضافة حواف للصورة لجعلها مربعة\n",
        "        h, w = digit_roi.shape\n",
        "        diff = abs(h - w)\n",
        "        padding_top = diff // 2\n",
        "        padding_bottom = diff - padding_top\n",
        "        if h > w:\n",
        "            padded_digit = cv2.copyMakeBorder(digit_roi, 0, 0, padding_top, padding_bottom,\n",
        "\n",
        "cv2.BORDER_CONSTANT, value=0)\n",
        "        else:\n",
        "            padded_digit = cv2.copyMakeBorder(digit_roi, padding_top, padding_bottom, 0, 0, cv2.BORDER_CONSTANT, value=0)\n",
        "\n",
        "        # تغيير حجم الصورة إلى 28x28 وتجهيزها للموديل\n",
        "        resized_digit = cv2.resize(padded_digit, (28, 28))\n",
        "        processed_digit = resized_digit.astype('float32') / 255\n",
        "        final_digit = np.expand_dims(processed_digit, axis=-1)\n",
        "        final_digit = np.expand_dims(final_digit, axis=0)\n",
        "\n",
        "        # 5. التنبؤ بالرقم باستخدام الموديل المحمل\n",
        "        prediction = loaded_model.predict(final_digit)\n",
        "\n",
        "        predicted_label = np.argmax(prediction)\n",
        "        final_prediction += str(predicted_label)\n",
        "\n",
        "        # 6. رسم المربع والتنبؤ على الصورة الملونة\n",
        "        cv2.rectangle(output_image, (x, y), (x+w, y+h), (0, 255, 0), 2) # مربع أخضر\n",
        "        cv2.putText(output_image, str(predicted_label), (x, y - 10), cv2.FONT_HERSHEY_SIMPLEX, 0.9, (0, 255, 0), 2)\n",
        "\n",
        "    # 7. عرض النتيجة النهائية\n",
        "    print(\"\\n\" + \"=\"*30)\n",
        "    print(f\"الرقم المتوقع بالكامل هو: {final_prediction}\")\n",
        "    print(\"=\"*30)\n",
        "\n",
        "    plt.figure(figsize=(10, 10))\n",
        "    plt.imshow(cv2.cvtColor(output_image, cv2.COLOR_BGR2RGB))\n",
        "\n",
        "    plt.title(\"النتيجة النهائية للتنبؤ\")\n",
        "    plt.axis('off')\n",
        "    plt.show()\n",
        "\n",
        "else:\n",
        "    print(\"لا توجد صورة للاختبار. يرجى تشغيل الخلية السابقة (رقم 6) أولاً.\")\n",
        "    model.save(\"my_model.h5\")\n"
      ]
    },
    {
      "cell_type": "code",
      "execution_count": null,
      "metadata": {
        "id": "hML-U1WkQ-lX"
      },
      "outputs": [],
      "source": []
    }
  ],
  "metadata": {
    "accelerator": "GPU",
    "colab": {
      "gpuType": "T4",
      "provenance": []
    },
    "kernelspec": {
      "display_name": "Python 3",
      "name": "python3"
    },
    "language_info": {
      "name": "python"
    }
  },
  "nbformat": 4,
  "nbformat_minor": 0
}
